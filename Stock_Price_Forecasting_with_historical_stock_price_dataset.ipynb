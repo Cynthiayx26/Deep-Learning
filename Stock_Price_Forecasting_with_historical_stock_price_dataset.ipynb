{
  "cells": [
    {
      "cell_type": "code",
      "execution_count": 10,
      "metadata": {
        "colab": {
          "base_uri": "https://localhost:8080/",
          "height": 35
        },
        "id": "F-WWO8qpHrpk",
        "outputId": "62a1f598-7c61-424d-9d58-9d9a02c733ce"
      },
      "outputs": [
        {
          "output_type": "execute_result",
          "data": {
            "text/plain": [
              "'2.8.0'"
            ],
            "application/vnd.google.colaboratory.intrinsic+json": {
              "type": "string"
            }
          },
          "metadata": {},
          "execution_count": 10
        }
      ],
      "source": [
        "import keras\n",
        "keras.__version__"
      ]
    },
    {
      "cell_type": "markdown",
      "metadata": {
        "id": "01dCTqdvHrps"
      },
      "source": [
        "\n",
        "- We extracted a timeseries of data points including opening price, high price, low price, trading volume, and closing price. \n",
        "\n",
        "- We would use historical closing price to predict what the closing price will be one trading day after the last data point collected. "
      ]
    },
    {
      "cell_type": "code",
      "execution_count": 11,
      "metadata": {
        "colab": {
          "base_uri": "https://localhost:8080/"
        },
        "id": "21ri5nt25FK2",
        "outputId": "e8497d89-4ac9-4b88-f3ce-ae764cf17cf2"
      },
      "outputs": [
        {
          "output_type": "stream",
          "name": "stdout",
          "text": [
            "Drive already mounted at /content/drive; to attempt to forcibly remount, call drive.mount(\"/content/drive\", force_remount=True).\n"
          ]
        }
      ],
      "source": [
        "from google.colab import drive\n",
        "drive.mount('/content/drive')"
      ]
    },
    {
      "cell_type": "code",
      "execution_count": 12,
      "metadata": {
        "colab": {
          "base_uri": "https://localhost:8080/",
          "height": 424
        },
        "id": "zLqSCd2A5Dx1",
        "outputId": "a1f5cbfc-18eb-4ea3-a3f9-73d626349771"
      },
      "outputs": [
        {
          "output_type": "execute_result",
          "data": {
            "text/plain": [
              "            Date       Close\n",
              "0     2012-06-01   20.035357\n",
              "1     2012-06-04   20.153214\n",
              "2     2012-06-05   20.101070\n",
              "3     2012-06-06   20.409286\n",
              "4     2012-06-07   20.418571\n",
              "...          ...         ...\n",
              "2490  2022-04-25  162.880005\n",
              "2491  2022-04-26  156.800003\n",
              "2492  2022-04-27  156.570007\n",
              "2493  2022-04-28  163.639999\n",
              "2494  2022-04-29  157.649994\n",
              "\n",
              "[2495 rows x 2 columns]"
            ],
            "text/html": [
              "\n",
              "  <div id=\"df-680a5fd0-f43b-4292-82d3-b6c23153a7c7\">\n",
              "    <div class=\"colab-df-container\">\n",
              "      <div>\n",
              "<style scoped>\n",
              "    .dataframe tbody tr th:only-of-type {\n",
              "        vertical-align: middle;\n",
              "    }\n",
              "\n",
              "    .dataframe tbody tr th {\n",
              "        vertical-align: top;\n",
              "    }\n",
              "\n",
              "    .dataframe thead th {\n",
              "        text-align: right;\n",
              "    }\n",
              "</style>\n",
              "<table border=\"1\" class=\"dataframe\">\n",
              "  <thead>\n",
              "    <tr style=\"text-align: right;\">\n",
              "      <th></th>\n",
              "      <th>Date</th>\n",
              "      <th>Close</th>\n",
              "    </tr>\n",
              "  </thead>\n",
              "  <tbody>\n",
              "    <tr>\n",
              "      <th>0</th>\n",
              "      <td>2012-06-01</td>\n",
              "      <td>20.035357</td>\n",
              "    </tr>\n",
              "    <tr>\n",
              "      <th>1</th>\n",
              "      <td>2012-06-04</td>\n",
              "      <td>20.153214</td>\n",
              "    </tr>\n",
              "    <tr>\n",
              "      <th>2</th>\n",
              "      <td>2012-06-05</td>\n",
              "      <td>20.101070</td>\n",
              "    </tr>\n",
              "    <tr>\n",
              "      <th>3</th>\n",
              "      <td>2012-06-06</td>\n",
              "      <td>20.409286</td>\n",
              "    </tr>\n",
              "    <tr>\n",
              "      <th>4</th>\n",
              "      <td>2012-06-07</td>\n",
              "      <td>20.418571</td>\n",
              "    </tr>\n",
              "    <tr>\n",
              "      <th>...</th>\n",
              "      <td>...</td>\n",
              "      <td>...</td>\n",
              "    </tr>\n",
              "    <tr>\n",
              "      <th>2490</th>\n",
              "      <td>2022-04-25</td>\n",
              "      <td>162.880005</td>\n",
              "    </tr>\n",
              "    <tr>\n",
              "      <th>2491</th>\n",
              "      <td>2022-04-26</td>\n",
              "      <td>156.800003</td>\n",
              "    </tr>\n",
              "    <tr>\n",
              "      <th>2492</th>\n",
              "      <td>2022-04-27</td>\n",
              "      <td>156.570007</td>\n",
              "    </tr>\n",
              "    <tr>\n",
              "      <th>2493</th>\n",
              "      <td>2022-04-28</td>\n",
              "      <td>163.639999</td>\n",
              "    </tr>\n",
              "    <tr>\n",
              "      <th>2494</th>\n",
              "      <td>2022-04-29</td>\n",
              "      <td>157.649994</td>\n",
              "    </tr>\n",
              "  </tbody>\n",
              "</table>\n",
              "<p>2495 rows × 2 columns</p>\n",
              "</div>\n",
              "      <button class=\"colab-df-convert\" onclick=\"convertToInteractive('df-680a5fd0-f43b-4292-82d3-b6c23153a7c7')\"\n",
              "              title=\"Convert this dataframe to an interactive table.\"\n",
              "              style=\"display:none;\">\n",
              "        \n",
              "  <svg xmlns=\"http://www.w3.org/2000/svg\" height=\"24px\"viewBox=\"0 0 24 24\"\n",
              "       width=\"24px\">\n",
              "    <path d=\"M0 0h24v24H0V0z\" fill=\"none\"/>\n",
              "    <path d=\"M18.56 5.44l.94 2.06.94-2.06 2.06-.94-2.06-.94-.94-2.06-.94 2.06-2.06.94zm-11 1L8.5 8.5l.94-2.06 2.06-.94-2.06-.94L8.5 2.5l-.94 2.06-2.06.94zm10 10l.94 2.06.94-2.06 2.06-.94-2.06-.94-.94-2.06-.94 2.06-2.06.94z\"/><path d=\"M17.41 7.96l-1.37-1.37c-.4-.4-.92-.59-1.43-.59-.52 0-1.04.2-1.43.59L10.3 9.45l-7.72 7.72c-.78.78-.78 2.05 0 2.83L4 21.41c.39.39.9.59 1.41.59.51 0 1.02-.2 1.41-.59l7.78-7.78 2.81-2.81c.8-.78.8-2.07 0-2.86zM5.41 20L4 18.59l7.72-7.72 1.47 1.35L5.41 20z\"/>\n",
              "  </svg>\n",
              "      </button>\n",
              "      \n",
              "  <style>\n",
              "    .colab-df-container {\n",
              "      display:flex;\n",
              "      flex-wrap:wrap;\n",
              "      gap: 12px;\n",
              "    }\n",
              "\n",
              "    .colab-df-convert {\n",
              "      background-color: #E8F0FE;\n",
              "      border: none;\n",
              "      border-radius: 50%;\n",
              "      cursor: pointer;\n",
              "      display: none;\n",
              "      fill: #1967D2;\n",
              "      height: 32px;\n",
              "      padding: 0 0 0 0;\n",
              "      width: 32px;\n",
              "    }\n",
              "\n",
              "    .colab-df-convert:hover {\n",
              "      background-color: #E2EBFA;\n",
              "      box-shadow: 0px 1px 2px rgba(60, 64, 67, 0.3), 0px 1px 3px 1px rgba(60, 64, 67, 0.15);\n",
              "      fill: #174EA6;\n",
              "    }\n",
              "\n",
              "    [theme=dark] .colab-df-convert {\n",
              "      background-color: #3B4455;\n",
              "      fill: #D2E3FC;\n",
              "    }\n",
              "\n",
              "    [theme=dark] .colab-df-convert:hover {\n",
              "      background-color: #434B5C;\n",
              "      box-shadow: 0px 1px 3px 1px rgba(0, 0, 0, 0.15);\n",
              "      filter: drop-shadow(0px 1px 2px rgba(0, 0, 0, 0.3));\n",
              "      fill: #FFFFFF;\n",
              "    }\n",
              "  </style>\n",
              "\n",
              "      <script>\n",
              "        const buttonEl =\n",
              "          document.querySelector('#df-680a5fd0-f43b-4292-82d3-b6c23153a7c7 button.colab-df-convert');\n",
              "        buttonEl.style.display =\n",
              "          google.colab.kernel.accessAllowed ? 'block' : 'none';\n",
              "\n",
              "        async function convertToInteractive(key) {\n",
              "          const element = document.querySelector('#df-680a5fd0-f43b-4292-82d3-b6c23153a7c7');\n",
              "          const dataTable =\n",
              "            await google.colab.kernel.invokeFunction('convertToInteractive',\n",
              "                                                     [key], {});\n",
              "          if (!dataTable) return;\n",
              "\n",
              "          const docLinkHtml = 'Like what you see? Visit the ' +\n",
              "            '<a target=\"_blank\" href=https://colab.research.google.com/notebooks/data_table.ipynb>data table notebook</a>'\n",
              "            + ' to learn more about interactive tables.';\n",
              "          element.innerHTML = '';\n",
              "          dataTable['output_type'] = 'display_data';\n",
              "          await google.colab.output.renderOutput(dataTable, element);\n",
              "          const docLink = document.createElement('div');\n",
              "          docLink.innerHTML = docLinkHtml;\n",
              "          element.appendChild(docLink);\n",
              "        }\n",
              "      </script>\n",
              "    </div>\n",
              "  </div>\n",
              "  "
            ]
          },
          "metadata": {},
          "execution_count": 12
        }
      ],
      "source": [
        "import os\n",
        "import pandas as pd\n",
        "\n",
        "data_dir = \"/content/drive/MyDrive/DeepL_27_Final Project/\"\n",
        "fname = os.path.join(data_dir, 'AAPL_20120601.csv')#ten years data\n",
        "\n",
        "df=pd.read_csv(fname)\n",
        "df_close=df.loc[:,(\"Date\",\"Close\")]\n",
        "df_close"
      ]
    },
    {
      "cell_type": "code",
      "execution_count": 13,
      "metadata": {
        "colab": {
          "base_uri": "https://localhost:8080/",
          "height": 265
        },
        "id": "Mr3jhqi-3aCr",
        "outputId": "834f14d0-90a6-483b-d1a5-68523cf13209"
      },
      "outputs": [
        {
          "output_type": "display_data",
          "data": {
            "text/plain": [
              "<Figure size 432x288 with 1 Axes>"
            ],
            "image/png": "[encoded data removed]"
          },
          "metadata": {
            "needs_background": "light"
          }
        }
      ],
      "source": [
        "# Let's convert all of these 2495 lines of data into a Numpy array\n",
        "import numpy as np\n",
        "\n",
        "float_data=df_close.loc[:,\"Close\"].to_numpy()\n",
        "float_data=float_data.reshape(float_data.shape[0],-1) ##1D array to 2D array of one column\n",
        "float_data\n",
        "\n",
        "# The plot of closing price over time\n",
        "from matplotlib import pyplot as plt\n",
        "\n",
        "plt.plot(range(len(float_data)), float_data)\n",
        "plt.show()"
      ]
    },
    {
      "cell_type": "markdown",
      "metadata": {
        "id": "CjmTYnT252WZ"
      },
      "source": [
        "- Looking at the data over a scale of days, the stock price looks a lot more chaotic. Next, we would like to find out if this timeseries predictable at a daily scale."
      ]
    },
    {
      "cell_type": "markdown",
      "metadata": {
        "id": "c2zx7ODLHrqJ"
      },
      "source": [
        "## Preparing the data\n",
        "\n",
        "\n",
        "The exact formulation of our problem will be the following: **given data going as far back as *lookback* timesteps** (a timestep is 1 trading day) \n",
        "and **sampled every *steps* timesteps**, can we **predict the closing stock price in *delay* timesteps**?\n",
        "\n",
        "We will use the following parameter values:\n",
        "\n",
        "* lookback = 14, our observations will go back 14 days.\n",
        "* steps = 1, our observations will be sampled at one data point per 1 trading day.\n",
        "* delay = 1, our targets will be 1 trading day in the future.\n",
        "\n",
        "To get started, we need to do two things:\n",
        "\n",
        "* Preprocess the data to a format a neural network can ingest. This is easy: **the data is already numerical, so we don't need to do any \n",
        "vectorization**. All we need to do is to **standardize the data** so that the neural network could read the input better. \n",
        "* Write a **Python generator** that takes our current array of float data and yields batches of data from the recent past, **alongside with a \n",
        "target closing stock price in the future**. We will generate the samples on the fly using the original data.\n",
        "\n",
        "We preprocess the data by subtracting the mean of each timeseries and dividing by the standard deviation. We plan on using the first \n",
        "**1,400** timesteps as training data, so we compute the mean and standard deviation only on this fraction of the data:"
      ]
    },
    {
      "cell_type": "code",
      "execution_count": 14,
      "metadata": {
        "id": "jYAkwzbgHrqJ"
      },
      "outputs": [],
      "source": [
        "mean = float_data[:1400].mean(axis=0)\n",
        "float_data -= mean\n",
        "std = float_data[:1400].std(axis=0)\n",
        "float_data /= std"
      ]
    },
    {
      "cell_type": "markdown",
      "metadata": {
        "id": "6AA2lQy3HrqO"
      },
      "source": [
        "\n",
        "Now here is the data generator that we will use. It yields a tuple *(samples, targets)* where *samples* is one batch of input data and \n",
        "*targets* is the corresponding array of target temperatures. It takes the following arguments:\n",
        "\n",
        "* *data*: The original array of floating point data, which we just standardized in the code snippet above.\n",
        "* *lookback*: How many timesteps back should our input data go.\n",
        "* *delay*: How many timesteps in the future should our target be.\n",
        "* *min_index* and *max_index*: Indices in the *data* array that delimit which timesteps to draw from. This is useful for keeping a segment \n",
        "of the data for validation and another one for testing.\n",
        "* *shuffle*: Whether to shuffle our samples or draw them in chronological order.\n",
        "* *batch_size*: The number of samples per batch.\n",
        "* *step*: The period, in timesteps, at which we sample data. We will set it 1 in order to draw one data point every trading day."
      ]
    },
    {
      "cell_type": "code",
      "execution_count": 15,
      "metadata": {
        "id": "EkKB9YtcHrqO"
      },
      "outputs": [],
      "source": [
        "def generator(data, lookback, delay, min_index, max_index,\n",
        "              shuffle=False, batch_size=64, step=1):\n",
        "    if max_index is None:\n",
        "        max_index = len(data) - delay - 1\n",
        "    i = min_index + lookback\n",
        "    while 1:\n",
        "        if shuffle:\n",
        "            rows = np.random.randint(\n",
        "                min_index + lookback, max_index, size=batch_size)\n",
        "        else:\n",
        "            if i + batch_size >= max_index:\n",
        "                i = min_index + lookback\n",
        "            rows = np.arange(i, min(i + batch_size, max_index))\n",
        "            i += len(rows)\n",
        "\n",
        "        samples = np.zeros((len(rows),\n",
        "                           lookback // step,\n",
        "                           data.shape[-1]))\n",
        "        targets = np.zeros((len(rows),))\n",
        "        for j, row in enumerate(rows):\n",
        "            indices = range(rows[j] - lookback, rows[j], step)\n",
        "            samples[j] = data[indices]\n",
        "            targets[j] = data[rows[j] + delay][0] # Hard-coded in the original code, change to 0 instead of 1\n",
        "        yield samples, targets"
      ]
    },
    {
      "cell_type": "markdown",
      "metadata": {
        "id": "N2KtjgE7HrqS"
      },
      "source": [
        "\n",
        "Now let's use our abstract generator function to instantiate three generators, one for training, one for validation and one for testing. \n",
        "Each will look at different segments of the original data: the training generator looks at the first **1,400** timesteps, the \n",
        "validation generator looks at the following **800**, and the test generator looks at the remainder."
      ]
    },
    {
      "cell_type": "code",
      "execution_count": 16,
      "metadata": {
        "id": "TR5e4xT4HrqT"
      },
      "outputs": [],
      "source": [
        "lookback = 14\n",
        "step = 1\n",
        "delay = 1\n",
        "batch_size = 64\n",
        "\n",
        "train_gen = generator(float_data,\n",
        "                      lookback=lookback,\n",
        "                      delay=delay,\n",
        "                      min_index=0,\n",
        "                      max_index=1400,#1400 for training\n",
        "                      shuffle=True,\n",
        "                      step=step, \n",
        "                      batch_size=batch_size)\n",
        "val_gen = generator(float_data,\n",
        "                    lookback=lookback,\n",
        "                    delay=delay,\n",
        "                    min_index=1401,\n",
        "                    max_index=2100,#800 for validation\n",
        "                    step=step,\n",
        "                    batch_size=batch_size)\n",
        "test_gen = generator(float_data,\n",
        "                     lookback=lookback,\n",
        "                     delay=delay,\n",
        "                     min_index=2101,\n",
        "                     max_index=None,#395 for testing\n",
        "                     step=step,\n",
        "                     batch_size=batch_size)\n",
        "\n",
        "# This is how many steps to draw from `val_gen`\n",
        "# in order to see the whole validation set:\n",
        "val_steps = (2100 - 1401 - lookback) // batch_size\n",
        "\n",
        "# This is how many steps to draw from `test_gen`\n",
        "# in order to see the whole test set:\n",
        "test_steps = (len(float_data) - 2101 - lookback) // batch_size"
      ]
    },
    {
      "cell_type": "markdown",
      "metadata": {
        "id": "jM5f8SRIHrqX"
      },
      "source": [
        "## A common sense, non-machine learning baseline\n",
        "\n",
        "\n",
        "- Before we start leveraging black-box deep learning models to solve our stock prediction problem, let's try out a simple common-sense approach. \n",
        "\n",
        "- It will serve as a sanity check, and it will establish a baseline that we will have to beat in order to demonstrate the usefulness of more advanced machine learning models. Such common-sense baselines can be very useful when approaching a new problem for which there is no known solution (yet). \n",
        "\n",
        "- In our case, the stock price timeseries can safely be assumed to be continuous (the stock price tomorrow are likely to be close to the stock price of today). Thus a common sense naive approach would be to always predict that the stock price tomorrow will be equal to the stock price today. Let's evaluate this approach, using the Mean Absolute Error metric (MAE). \n",
        "\n",
        "Mean Absolute Error is simply equal to:\n",
        "np.mean(np.abs(preds - targets))"
      ]
    },
    {
      "cell_type": "code",
      "execution_count": 17,
      "metadata": {
        "id": "rNo6IhchHrqc",
        "colab": {
          "base_uri": "https://localhost:8080/",
          "height": 314
        },
        "outputId": "75a5df47-1ec3-4f2d-be6c-f5b4a69b2bdc"
      },
      "outputs": [
        {
          "output_type": "stream",
          "name": "stdout",
          "text": [
            "0.16347576259156615\n"
          ]
        },
        {
          "output_type": "display_data",
          "data": {
            "text/plain": [
              "<Figure size 432x288 with 1 Axes>"
            ],
            "image/png": "[encoded data removed]"
          },
          "metadata": {
            "needs_background": "light"
          }
        }
      ],
      "source": [
        "#evaluation loop\n",
        "def evaluate_naive_method():\n",
        "    batch_maes = []\n",
        "    for step in range(val_steps):\n",
        "        samples, targets = next(val_gen)\n",
        "        preds = samples[:, -1, 0]\n",
        "        mae = np.mean(np.abs(preds - targets))\n",
        "        batch_maes.append(mae)\n",
        "    print(np.mean(batch_maes))\n",
        "    return preds,targets\n",
        "\n",
        "# Let's plot the most recent validation batch\n",
        "preds,targets = evaluate_naive_method()\n",
        "plt.scatter(range(len(preds)),preds,s=5)\n",
        "plt.scatter(range(len(targets)),targets,s=5)\n",
        "plt.title(\"Orange: real stock price\\nBlue: predict stock price\")\n",
        "plt.show()"
      ]
    },
    {
      "cell_type": "markdown",
      "metadata": {
        "id": "iNDDQf1UHrqh"
      },
      "source": [
        "It yields a MAE of **0.163**. Since our stock price data has been standardized to be centered on 0 and have a standard deviation of one, this \n",
        "number is not immediately interpretable.  "
      ]
    },
    {
      "cell_type": "markdown",
      "metadata": {
        "id": "YmS3fOlXHrqh"
      },
      "source": [
        "## A Basic Deep Learning Approach\n",
        "\n",
        "- Establish a common sense baseline without deep learning approaches such as RNNs (try simple and cheap deep learning models, such as small densely-connected networks).\n",
        "\n",
        "- This is the best way to make sure that any further complexity we throw at the problem later on is legitimate and delivers real benefits.\n",
        "\n",
        "- Here is a simply fully-connected model in which we start by flattening the data, then run it through two *Dense* layers. **Note the lack of \n",
        "activation function on the last *Dense* layer, which is typical for a regression problem.** **We use MAE as the loss.** Since we are evaluating \n",
        "on the exact same data and with the exact same metric as with our common sense approach, the results will be directly comparable.\n",
        "\n",
        "- The approach consisted in first flattening the timeseries, which removed the notion of time from the input data."
      ]
    },
    {
      "cell_type": "code",
      "execution_count": 18,
      "metadata": {
        "id": "1G7FfNb8Hrqi",
        "colab": {
          "base_uri": "https://localhost:8080/"
        },
        "outputId": "d8d5a8d5-0f40-4dd1-8e01-7c915c92a7ad"
      },
      "outputs": [
        {
          "output_type": "stream",
          "name": "stdout",
          "text": [
            "Epoch 1/50\n"
          ]
        },
        {
          "output_type": "stream",
          "name": "stderr",
          "text": [
            "/usr/local/lib/python3.7/dist-packages/ipykernel_launcher.py:16: UserWarning: `Model.fit_generator` is deprecated and will be removed in a future version. Please use `Model.fit`, which supports generators.\n",
            "  app.launch_new_instance()\n"
          ]
        },
        {
          "output_type": "stream",
          "name": "stdout",
          "text": [
            "32/32 - 3s - loss: 0.1319 - val_loss: 0.3386 - 3s/epoch - 93ms/step\n",
            "Epoch 2/50\n",
            "32/32 - 0s - loss: 0.0973 - val_loss: 0.3669 - 161ms/epoch - 5ms/step\n",
            "Epoch 3/50\n",
            "32/32 - 0s - loss: 0.0884 - val_loss: 0.2349 - 124ms/epoch - 4ms/step\n",
            "Epoch 4/50\n",
            "32/32 - 0s - loss: 0.0853 - val_loss: 0.2632 - 160ms/epoch - 5ms/step\n",
            "Epoch 5/50\n",
            "32/32 - 0s - loss: 0.0838 - val_loss: 0.1834 - 136ms/epoch - 4ms/step\n",
            "Epoch 6/50\n",
            "32/32 - 0s - loss: 0.0799 - val_loss: 0.5442 - 143ms/epoch - 4ms/step\n",
            "Epoch 7/50\n",
            "32/32 - 0s - loss: 0.0783 - val_loss: 0.3204 - 163ms/epoch - 5ms/step\n",
            "Epoch 8/50\n",
            "32/32 - 0s - loss: 0.0816 - val_loss: 0.2074 - 161ms/epoch - 5ms/step\n",
            "Epoch 9/50\n",
            "32/32 - 0s - loss: 0.0804 - val_loss: 0.1946 - 163ms/epoch - 5ms/step\n",
            "Epoch 10/50\n",
            "32/32 - 0s - loss: 0.0755 - val_loss: 0.4262 - 137ms/epoch - 4ms/step\n",
            "Epoch 11/50\n",
            "32/32 - 0s - loss: 0.0771 - val_loss: 0.1745 - 144ms/epoch - 4ms/step\n",
            "Epoch 12/50\n",
            "32/32 - 0s - loss: 0.0781 - val_loss: 0.1701 - 126ms/epoch - 4ms/step\n",
            "Epoch 13/50\n",
            "32/32 - 0s - loss: 0.0762 - val_loss: 0.1715 - 139ms/epoch - 4ms/step\n",
            "Epoch 14/50\n",
            "32/32 - 0s - loss: 0.0783 - val_loss: 0.2113 - 125ms/epoch - 4ms/step\n",
            "Epoch 15/50\n",
            "32/32 - 0s - loss: 0.0774 - val_loss: 0.1690 - 139ms/epoch - 4ms/step\n",
            "Epoch 16/50\n",
            "32/32 - 0s - loss: 0.0752 - val_loss: 0.1694 - 131ms/epoch - 4ms/step\n",
            "Epoch 17/50\n",
            "32/32 - 0s - loss: 0.0725 - val_loss: 0.2263 - 166ms/epoch - 5ms/step\n",
            "Epoch 18/50\n",
            "32/32 - 0s - loss: 0.0736 - val_loss: 0.1779 - 146ms/epoch - 5ms/step\n",
            "Epoch 19/50\n",
            "32/32 - 0s - loss: 0.0693 - val_loss: 0.1868 - 157ms/epoch - 5ms/step\n",
            "Epoch 20/50\n",
            "32/32 - 0s - loss: 0.0734 - val_loss: 0.1743 - 130ms/epoch - 4ms/step\n",
            "Epoch 21/50\n",
            "32/32 - 0s - loss: 0.0724 - val_loss: 0.3530 - 134ms/epoch - 4ms/step\n",
            "Epoch 22/50\n",
            "32/32 - 0s - loss: 0.0719 - val_loss: 0.2676 - 135ms/epoch - 4ms/step\n",
            "Epoch 23/50\n",
            "32/32 - 0s - loss: 0.0739 - val_loss: 0.2150 - 125ms/epoch - 4ms/step\n",
            "Epoch 24/50\n",
            "32/32 - 0s - loss: 0.0736 - val_loss: 0.1693 - 130ms/epoch - 4ms/step\n",
            "Epoch 25/50\n",
            "32/32 - 0s - loss: 0.0734 - val_loss: 0.1989 - 133ms/epoch - 4ms/step\n",
            "Epoch 26/50\n",
            "32/32 - 0s - loss: 0.0711 - val_loss: 0.2189 - 166ms/epoch - 5ms/step\n",
            "Epoch 27/50\n",
            "32/32 - 0s - loss: 0.0703 - val_loss: 0.2149 - 140ms/epoch - 4ms/step\n",
            "Epoch 28/50\n",
            "32/32 - 0s - loss: 0.0722 - val_loss: 0.1750 - 142ms/epoch - 4ms/step\n",
            "Epoch 29/50\n",
            "32/32 - 0s - loss: 0.0702 - val_loss: 0.3875 - 126ms/epoch - 4ms/step\n",
            "Epoch 30/50\n",
            "32/32 - 0s - loss: 0.0725 - val_loss: 0.2553 - 129ms/epoch - 4ms/step\n",
            "Epoch 31/50\n",
            "32/32 - 0s - loss: 0.0704 - val_loss: 0.3124 - 134ms/epoch - 4ms/step\n",
            "Epoch 32/50\n",
            "32/32 - 0s - loss: 0.0695 - val_loss: 0.2037 - 167ms/epoch - 5ms/step\n",
            "Epoch 33/50\n",
            "32/32 - 0s - loss: 0.0685 - val_loss: 0.1898 - 172ms/epoch - 5ms/step\n",
            "Epoch 34/50\n",
            "32/32 - 0s - loss: 0.0700 - val_loss: 0.2260 - 136ms/epoch - 4ms/step\n",
            "Epoch 35/50\n",
            "32/32 - 0s - loss: 0.0719 - val_loss: 0.2160 - 133ms/epoch - 4ms/step\n",
            "Epoch 36/50\n",
            "32/32 - 0s - loss: 0.0689 - val_loss: 0.1972 - 140ms/epoch - 4ms/step\n",
            "Epoch 37/50\n",
            "32/32 - 0s - loss: 0.0706 - val_loss: 0.1650 - 127ms/epoch - 4ms/step\n",
            "Epoch 38/50\n",
            "32/32 - 0s - loss: 0.0731 - val_loss: 0.2898 - 165ms/epoch - 5ms/step\n",
            "Epoch 39/50\n",
            "32/32 - 0s - loss: 0.0663 - val_loss: 0.2726 - 128ms/epoch - 4ms/step\n",
            "Epoch 40/50\n",
            "32/32 - 0s - loss: 0.0691 - val_loss: 0.1780 - 136ms/epoch - 4ms/step\n",
            "Epoch 41/50\n",
            "32/32 - 0s - loss: 0.0664 - val_loss: 0.2029 - 139ms/epoch - 4ms/step\n",
            "Epoch 42/50\n",
            "32/32 - 0s - loss: 0.0707 - val_loss: 0.1933 - 132ms/epoch - 4ms/step\n",
            "Epoch 43/50\n",
            "32/32 - 0s - loss: 0.0724 - val_loss: 0.2207 - 126ms/epoch - 4ms/step\n",
            "Epoch 44/50\n",
            "32/32 - 0s - loss: 0.0730 - val_loss: 0.4516 - 125ms/epoch - 4ms/step\n",
            "Epoch 45/50\n",
            "32/32 - 0s - loss: 0.0677 - val_loss: 0.1689 - 127ms/epoch - 4ms/step\n",
            "Epoch 46/50\n",
            "32/32 - 0s - loss: 0.0664 - val_loss: 0.2179 - 135ms/epoch - 4ms/step\n",
            "Epoch 47/50\n",
            "32/32 - 0s - loss: 0.0715 - val_loss: 0.1828 - 126ms/epoch - 4ms/step\n",
            "Epoch 48/50\n",
            "32/32 - 0s - loss: 0.0687 - val_loss: 0.2478 - 133ms/epoch - 4ms/step\n",
            "Epoch 49/50\n",
            "32/32 - 0s - loss: 0.0671 - val_loss: 0.2674 - 169ms/epoch - 5ms/step\n",
            "Epoch 50/50\n",
            "32/32 - 0s - loss: 0.0685 - val_loss: 0.1695 - 160ms/epoch - 5ms/step\n"
          ]
        }
      ],
      "source": [
        "from keras.models import Sequential\n",
        "from keras import layers\n",
        "from tensorflow.keras.optimizers import RMSprop\n",
        "\n",
        "model = Sequential()\n",
        "model.add(layers.Flatten(input_shape=(lookback // step, float_data.shape[-1])))\n",
        "model.add(layers.Dense(128, activation='relu'))\n",
        "model.add(layers.Dense(1))\n",
        "\n",
        "model.compile(optimizer=RMSprop(), loss='mae')\n",
        "history = model.fit_generator(train_gen,\n",
        "                              steps_per_epoch=32, \n",
        "                              epochs=50,\n",
        "                              validation_data=val_gen,\n",
        "                              validation_steps=val_steps,\n",
        "                              verbose=2)\n",
        "# loss: 0.0685 - val_loss: 0.1695"
      ]
    },
    {
      "cell_type": "code",
      "source": [
        "model = Sequential()\n",
        "model.add(layers.Flatten(input_shape=(lookback // step, float_data.shape[-1])))\n",
        "model.add(layers.Dense(128, activation='relu'))\n",
        "model.add(layers.Dense(1))\n",
        "model.summary()"
      ],
      "metadata": {
        "colab": {
          "base_uri": "https://localhost:8080/"
        },
        "id": "NK-dZDF2JG2O",
        "outputId": "c49e5e63-d85b-4a55-b439-8338deff5ab2"
      },
      "execution_count": 19,
      "outputs": [
        {
          "output_type": "stream",
          "name": "stdout",
          "text": [
            "Model: \"sequential_2\"\n",
            "_________________________________________________________________\n",
            " Layer (type)                Output Shape              Param #   \n",
            "=================================================================\n",
            " flatten_1 (Flatten)         (None, 14)                0         \n",
            "                                                                 \n",
            " dense_3 (Dense)             (None, 128)               1920      \n",
            "                                                                 \n",
            " dense_4 (Dense)             (None, 1)                 129       \n",
            "                                                                 \n",
            "=================================================================\n",
            "Total params: 2,049\n",
            "Trainable params: 2,049\n",
            "Non-trainable params: 0\n",
            "_________________________________________________________________\n"
          ]
        }
      ]
    },
    {
      "cell_type": "code",
      "execution_count": 20,
      "metadata": {
        "colab": {
          "base_uri": "https://localhost:8080/",
          "height": 281
        },
        "id": "78WRwtJOHrqm",
        "outputId": "96815097-e711-43e1-8ec7-eb36fd3cfb58"
      },
      "outputs": [
        {
          "output_type": "display_data",
          "data": {
            "text/plain": [
              "<Figure size 432x288 with 1 Axes>"
            ],
            "image/png": "[encoded data removed]"
          },
          "metadata": {
            "needs_background": "light"
          }
        }
      ],
      "source": [
        "import matplotlib.pyplot as plt\n",
        "\n",
        "loss = history.history['loss']\n",
        "val_loss = history.history['val_loss']\n",
        "\n",
        "epochs = range(len(loss))\n",
        "\n",
        "plt.figure()\n",
        "\n",
        "plt.plot(epochs, loss, 'r', label='Training loss')\n",
        "plt.plot(epochs, val_loss, 'b', label='Validation loss')\n",
        "plt.title('Training and validation loss')\n",
        "plt.legend()\n",
        "\n",
        "plt.show()"
      ]
    },
    {
      "cell_type": "markdown",
      "metadata": {
        "id": "C-iCYSzUHrqq"
      },
      "source": [
        "\n",
        "- Some of our validation losses get close to the no-learning baseline, but not very reliably. This goes to show the merit of having had this baseline in the first place: it turns out not to be so easy to outperform. Our \n",
        "common sense contains already a lot of valuable information that a machine learning model does not have access to.\n",
        "\n",
        "- You may ask, if there exists a simple, well-performing model to go from the data to the targets (our common sense baseline), why doesn't \n",
        "the model we are training find it and improve on it? Simply put: because this simple solution is not what our training setup is looking \n",
        "for. The space of models in which we are searching for a solution, i.e. our hypothesis space, is the space of all possible 2-layer networks \n",
        "with the configuration that we defined. These networks are already fairly complicated. When looking for a solution with a space of \n",
        "complicated models, the simple well-performing baseline might be unlearnable, even if it's technically part of the hypothesis space. That \n",
        "is a pretty significant limitation of machine learning in general: unless the learning algorithm is hard-coded to look for a specific kind \n",
        "of simple model, parameter learning can sometimes fail to find a simple solution to a simple problem."
      ]
    },
    {
      "cell_type": "markdown",
      "metadata": {
        "id": "w6rv1GHqHrqq"
      },
      "source": [
        "## Model 1: one recurrent layer baseline \n",
        "- Our first approach didn't do so well with a fluctuated validation loss. Now, let us instead look at our data as what it is: a sequence, where causality and order matter. We will try a recurrent sequence processing model -- it should be the perfect \n",
        "fit for such sequence data, precisely because it does exploit the temporal ordering of data points, unlike our first approach.\n",
        "\n",
        "- Since we are no longer overfitting yet we seem to have hit a performance bottleneck, we should start considering increasing the capacity of our network. It is a generally a good idea to **increase the capacity of the network** until overfitting becomes our primary obstacle (assuming that we are already taking basic steps to mitigate overfitting, such as using dropout). As long as you are not overfitting too badly, then you are likely under-capacity.\n",
        "\n",
        "- To stack recurrent layers on top of each other in Keras, all intermediate layers should return their full sequence of outputs (a 3D tensor) rather than their output at the last timestep. This is done by specifying return_sequences=True:"
      ]
    },
    {
      "cell_type": "code",
      "execution_count": 21,
      "metadata": {
        "id": "bPFMuh-BHrqq",
        "colab": {
          "base_uri": "https://localhost:8080/"
        },
        "outputId": "a71ebed3-8576-4bf5-82f1-14f7f92f6057"
      },
      "outputs": [
        {
          "output_type": "stream",
          "name": "stdout",
          "text": [
            "Epoch 1/50\n"
          ]
        },
        {
          "output_type": "stream",
          "name": "stderr",
          "text": [
            "/usr/local/lib/python3.7/dist-packages/ipykernel_launcher.py:16: UserWarning: `Model.fit_generator` is deprecated and will be removed in a future version. Please use `Model.fit`, which supports generators.\n",
            "  app.launch_new_instance()\n"
          ]
        },
        {
          "output_type": "stream",
          "name": "stdout",
          "text": [
            "64/64 [==============================] - 8s 25ms/step - loss: 0.1415 - val_loss: 0.9964\n",
            "Epoch 2/50\n",
            "64/64 [==============================] - 1s 10ms/step - loss: 0.0996 - val_loss: 0.8248\n",
            "Epoch 3/50\n",
            "64/64 [==============================] - 1s 11ms/step - loss: 0.0909 - val_loss: 1.0881\n",
            "Epoch 4/50\n",
            "64/64 [==============================] - 1s 9ms/step - loss: 0.0820 - val_loss: 0.7314\n",
            "Epoch 5/50\n",
            "64/64 [==============================] - 1s 8ms/step - loss: 0.0773 - val_loss: 0.6550\n",
            "Epoch 6/50\n",
            "64/64 [==============================] - 0s 6ms/step - loss: 0.0724 - val_loss: 0.6267\n",
            "Epoch 7/50\n",
            "64/64 [==============================] - 0s 6ms/step - loss: 0.0696 - val_loss: 0.5439\n",
            "Epoch 8/50\n",
            "64/64 [==============================] - 0s 6ms/step - loss: 0.0674 - val_loss: 0.6145\n",
            "Epoch 9/50\n",
            "64/64 [==============================] - 0s 6ms/step - loss: 0.0652 - val_loss: 0.6296\n",
            "Epoch 10/50\n",
            "64/64 [==============================] - 0s 5ms/step - loss: 0.0666 - val_loss: 0.5477\n",
            "Epoch 11/50\n",
            "64/64 [==============================] - 0s 6ms/step - loss: 0.0647 - val_loss: 0.3902\n",
            "Epoch 12/50\n",
            "64/64 [==============================] - 0s 6ms/step - loss: 0.0640 - val_loss: 0.4051\n",
            "Epoch 13/50\n",
            "64/64 [==============================] - 0s 6ms/step - loss: 0.0623 - val_loss: 0.6176\n",
            "Epoch 14/50\n",
            "64/64 [==============================] - 0s 6ms/step - loss: 0.0620 - val_loss: 0.3757\n",
            "Epoch 15/50\n",
            "64/64 [==============================] - 0s 6ms/step - loss: 0.0623 - val_loss: 0.4202\n",
            "Epoch 16/50\n",
            "64/64 [==============================] - 0s 6ms/step - loss: 0.0611 - val_loss: 0.4681\n",
            "Epoch 17/50\n",
            "64/64 [==============================] - 0s 6ms/step - loss: 0.0613 - val_loss: 0.3933\n",
            "Epoch 18/50\n",
            "64/64 [==============================] - 0s 6ms/step - loss: 0.0603 - val_loss: 0.4150\n",
            "Epoch 19/50\n",
            "64/64 [==============================] - 0s 6ms/step - loss: 0.0591 - val_loss: 0.3280\n",
            "Epoch 20/50\n",
            "64/64 [==============================] - 0s 5ms/step - loss: 0.0591 - val_loss: 0.4448\n",
            "Epoch 21/50\n",
            "64/64 [==============================] - 0s 5ms/step - loss: 0.0596 - val_loss: 0.3881\n",
            "Epoch 22/50\n",
            "64/64 [==============================] - 0s 6ms/step - loss: 0.0609 - val_loss: 0.3507\n",
            "Epoch 23/50\n",
            "64/64 [==============================] - 0s 6ms/step - loss: 0.0609 - val_loss: 0.3651\n",
            "Epoch 24/50\n",
            "64/64 [==============================] - 0s 6ms/step - loss: 0.0587 - val_loss: 0.4830\n",
            "Epoch 25/50\n",
            "64/64 [==============================] - 0s 6ms/step - loss: 0.0585 - val_loss: 0.3761\n",
            "Epoch 26/50\n",
            "64/64 [==============================] - 0s 6ms/step - loss: 0.0597 - val_loss: 0.4319\n",
            "Epoch 27/50\n",
            "64/64 [==============================] - 0s 6ms/step - loss: 0.0592 - val_loss: 0.4444\n",
            "Epoch 28/50\n",
            "64/64 [==============================] - 0s 6ms/step - loss: 0.0597 - val_loss: 0.3386\n",
            "Epoch 29/50\n",
            "64/64 [==============================] - 0s 6ms/step - loss: 0.0588 - val_loss: 0.3987\n",
            "Epoch 30/50\n",
            "64/64 [==============================] - 0s 6ms/step - loss: 0.0593 - val_loss: 0.4198\n",
            "Epoch 31/50\n",
            "64/64 [==============================] - 0s 6ms/step - loss: 0.0586 - val_loss: 0.3913\n",
            "Epoch 32/50\n",
            "64/64 [==============================] - 0s 6ms/step - loss: 0.0576 - val_loss: 0.3605\n",
            "Epoch 33/50\n",
            "64/64 [==============================] - 0s 6ms/step - loss: 0.0577 - val_loss: 0.4928\n",
            "Epoch 34/50\n",
            "64/64 [==============================] - 0s 6ms/step - loss: 0.0587 - val_loss: 0.4219\n",
            "Epoch 35/50\n",
            "64/64 [==============================] - 0s 6ms/step - loss: 0.0584 - val_loss: 0.5158\n",
            "Epoch 36/50\n",
            "64/64 [==============================] - 0s 6ms/step - loss: 0.0577 - val_loss: 0.4499\n",
            "Epoch 37/50\n",
            "64/64 [==============================] - 0s 6ms/step - loss: 0.0574 - val_loss: 0.4350\n",
            "Epoch 38/50\n",
            "64/64 [==============================] - 0s 6ms/step - loss: 0.0576 - val_loss: 0.4507\n",
            "Epoch 39/50\n",
            "64/64 [==============================] - 0s 6ms/step - loss: 0.0584 - val_loss: 0.3363\n",
            "Epoch 40/50\n",
            "64/64 [==============================] - 0s 6ms/step - loss: 0.0603 - val_loss: 0.4922\n",
            "Epoch 41/50\n",
            "64/64 [==============================] - 0s 6ms/step - loss: 0.0594 - val_loss: 0.4191\n",
            "Epoch 42/50\n",
            "64/64 [==============================] - 0s 6ms/step - loss: 0.0582 - val_loss: 0.3655\n",
            "Epoch 43/50\n",
            "64/64 [==============================] - 0s 6ms/step - loss: 0.0576 - val_loss: 0.4212\n",
            "Epoch 44/50\n",
            "64/64 [==============================] - 0s 6ms/step - loss: 0.0582 - val_loss: 0.4950\n",
            "Epoch 45/50\n",
            "64/64 [==============================] - 0s 6ms/step - loss: 0.0572 - val_loss: 0.3888\n",
            "Epoch 46/50\n",
            "64/64 [==============================] - 0s 6ms/step - loss: 0.0596 - val_loss: 0.5052\n",
            "Epoch 47/50\n",
            "64/64 [==============================] - 0s 6ms/step - loss: 0.0581 - val_loss: 0.4451\n",
            "Epoch 48/50\n",
            "64/64 [==============================] - 0s 6ms/step - loss: 0.0592 - val_loss: 0.4768\n",
            "Epoch 49/50\n",
            "64/64 [==============================] - 0s 6ms/step - loss: 0.0596 - val_loss: 0.4808\n",
            "Epoch 50/50\n",
            "64/64 [==============================] - 0s 6ms/step - loss: 0.0584 - val_loss: 0.4062\n"
          ]
        }
      ],
      "source": [
        "#one recurrent layer baseline\n",
        "from keras.models import Sequential\n",
        "from keras import layers\n",
        "from tensorflow.keras.optimizers import RMSprop\n",
        "\n",
        "model = Sequential()\n",
        "model.add(layers.LSTM(128, input_shape=(None, float_data.shape[-1])))\n",
        "model.add(layers.Dense(1))\n",
        "\n",
        "model.compile(optimizer=RMSprop(), loss='mae')\n",
        "history = model.fit_generator(train_gen,\n",
        "                              steps_per_epoch=64,\n",
        "                              epochs=50,\n",
        "                              validation_data=val_gen,\n",
        "                              validation_steps=val_steps,\n",
        "                              verbose=1)\n",
        "# loss: 0.0584 - val_loss: 0.4062"
      ]
    },
    {
      "cell_type": "code",
      "source": [
        "model = Sequential()\n",
        "model.add(layers.LSTM(128, input_shape=(None, float_data.shape[-1])))\n",
        "model.add(layers.Dense(1))\n",
        "model.summary()"
      ],
      "metadata": {
        "colab": {
          "base_uri": "https://localhost:8080/"
        },
        "id": "y2NNfLrENKhm",
        "outputId": "2b50d650-852a-421f-eb91-9b9782423f91"
      },
      "execution_count": 22,
      "outputs": [
        {
          "output_type": "stream",
          "name": "stdout",
          "text": [
            "Model: \"sequential_4\"\n",
            "_________________________________________________________________\n",
            " Layer (type)                Output Shape              Param #   \n",
            "=================================================================\n",
            " lstm_2 (LSTM)               (None, 128)               66560     \n",
            "                                                                 \n",
            " dense_6 (Dense)             (None, 1)                 129       \n",
            "                                                                 \n",
            "=================================================================\n",
            "Total params: 66,689\n",
            "Trainable params: 66,689\n",
            "Non-trainable params: 0\n",
            "_________________________________________________________________\n"
          ]
        }
      ]
    },
    {
      "cell_type": "code",
      "execution_count": 23,
      "metadata": {
        "colab": {
          "base_uri": "https://localhost:8080/",
          "height": 281
        },
        "id": "OkL-shwXHrqu",
        "outputId": "086623dc-48f4-4659-c85a-91ff1069e4d3"
      },
      "outputs": [
        {
          "output_type": "display_data",
          "data": {
            "text/plain": [
              "<Figure size 432x288 with 1 Axes>"
            ],
            "image/png": "[encoded data removed]"
          },
          "metadata": {
            "needs_background": "light"
          }
        }
      ],
      "source": [
        "loss = history.history['loss']\n",
        "val_loss = history.history['val_loss']\n",
        "\n",
        "epochs = range(len(loss))\n",
        "\n",
        "plt.figure()\n",
        "\n",
        "plt.plot(epochs, loss, 'r', label='Training loss')\n",
        "plt.plot(epochs, val_loss, 'b', label='Validation loss')\n",
        "plt.title('Training and validation loss')\n",
        "plt.legend()\n",
        "\n",
        "plt.show()"
      ]
    },
    {
      "cell_type": "markdown",
      "metadata": {
        "id": "bU5xwbcB_zES"
      },
      "source": [
        "We are able to approach to baseline closely, but not strictly beating the baseline model. \n",
        "\n",
        "Our new validation MAE of **~0.4062**(before we start overfitting) translates to a mean absolute error, which is not much lower than the previous one."
      ]
    },
    {
      "cell_type": "markdown",
      "source": [
        "## Model 2: stacking recurrent layers"
      ],
      "metadata": {
        "id": "cWLRtgMlLxGd"
      }
    },
    {
      "cell_type": "code",
      "source": [
        "#stacking recurrent layers\n",
        "from keras.models import Sequential\n",
        "from keras import layers\n",
        "from tensorflow.keras.optimizers import RMSprop\n",
        "\n",
        "model = Sequential()\n",
        "model.add(layers.LSTM(128,\n",
        "                    #  dropout=0.1,\n",
        "                    #  recurrent_dropout=0.1,\n",
        "                     return_sequences=True,\n",
        "                     input_shape=(None, float_data.shape[-1])))\n",
        "model.add(layers.LSTM(64, activation='relu',\n",
        "                     dropout=0.1, \n",
        "                     recurrent_dropout=0.1))\n",
        "model.add(layers.Dense(1))\n",
        "\n",
        "model.compile(optimizer=RMSprop(), loss='mae')\n",
        "history = model.fit_generator(train_gen,\n",
        "                              steps_per_epoch=32,\n",
        "                              epochs=50,\n",
        "                              validation_data=val_gen,\n",
        "                              validation_steps=val_steps)\n",
        "# loss: 0.0670 - val_loss: 0.2006"
      ],
      "metadata": {
        "colab": {
          "base_uri": "https://localhost:8080/"
        },
        "id": "yvVvhKYwO1BU",
        "outputId": "e810ebce-95a7-412a-9e51-7de767b50f60"
      },
      "execution_count": 24,
      "outputs": [
        {
          "output_type": "stream",
          "name": "stdout",
          "text": [
            "WARNING:tensorflow:Layer lstm_4 will not use cuDNN kernels since it doesn't meet the criteria. It will use a generic GPU kernel as fallback when running on GPU.\n",
            "Epoch 1/50\n"
          ]
        },
        {
          "output_type": "stream",
          "name": "stderr",
          "text": [
            "/usr/local/lib/python3.7/dist-packages/ipykernel_launcher.py:22: UserWarning: `Model.fit_generator` is deprecated and will be removed in a future version. Please use `Model.fit`, which supports generators.\n"
          ]
        },
        {
          "output_type": "stream",
          "name": "stdout",
          "text": [
            "32/32 [==============================] - 8s 132ms/step - loss: 0.2151 - val_loss: 1.1420\n",
            "Epoch 2/50\n",
            "32/32 [==============================] - 2s 69ms/step - loss: 0.1525 - val_loss: 0.6834\n",
            "Epoch 3/50\n",
            "32/32 [==============================] - 2s 69ms/step - loss: 0.1344 - val_loss: 0.7679\n",
            "Epoch 4/50\n",
            "32/32 [==============================] - 2s 68ms/step - loss: 0.1226 - val_loss: 0.7640\n",
            "Epoch 5/50\n",
            "32/32 [==============================] - 2s 67ms/step - loss: 0.1176 - val_loss: 0.8525\n",
            "Epoch 6/50\n",
            "32/32 [==============================] - 2s 67ms/step - loss: 0.1112 - val_loss: 1.3768\n",
            "Epoch 7/50\n",
            "32/32 [==============================] - 2s 68ms/step - loss: 0.1082 - val_loss: 0.8860\n",
            "Epoch 8/50\n",
            "32/32 [==============================] - 2s 67ms/step - loss: 0.1030 - val_loss: 1.0805\n",
            "Epoch 9/50\n",
            "32/32 [==============================] - 2s 68ms/step - loss: 0.0973 - val_loss: 0.6523\n",
            "Epoch 10/50\n",
            "32/32 [==============================] - 2s 69ms/step - loss: 0.0957 - val_loss: 0.9620\n",
            "Epoch 11/50\n",
            "32/32 [==============================] - 2s 67ms/step - loss: 0.0945 - val_loss: 0.5840\n",
            "Epoch 12/50\n",
            "32/32 [==============================] - 2s 67ms/step - loss: 0.0875 - val_loss: 0.6037\n",
            "Epoch 13/50\n",
            "32/32 [==============================] - 2s 72ms/step - loss: 0.0884 - val_loss: 0.4946\n",
            "Epoch 14/50\n",
            "32/32 [==============================] - 2s 70ms/step - loss: 0.0856 - val_loss: 0.7410\n",
            "Epoch 15/50\n",
            "32/32 [==============================] - 2s 71ms/step - loss: 0.0859 - val_loss: 0.9136\n",
            "Epoch 16/50\n",
            "32/32 [==============================] - 2s 71ms/step - loss: 0.0857 - val_loss: 0.7938\n",
            "Epoch 17/50\n",
            "32/32 [==============================] - 2s 70ms/step - loss: 0.0817 - val_loss: 0.7092\n",
            "Epoch 18/50\n",
            "32/32 [==============================] - 2s 68ms/step - loss: 0.0806 - val_loss: 0.4964\n",
            "Epoch 19/50\n",
            "32/32 [==============================] - 2s 70ms/step - loss: 0.0800 - val_loss: 0.6600\n",
            "Epoch 20/50\n",
            "32/32 [==============================] - 2s 66ms/step - loss: 0.0787 - val_loss: 0.5613\n",
            "Epoch 21/50\n",
            "32/32 [==============================] - 2s 69ms/step - loss: 0.0805 - val_loss: 0.3467\n",
            "Epoch 22/50\n",
            "32/32 [==============================] - 2s 67ms/step - loss: 0.0770 - val_loss: 0.3974\n",
            "Epoch 23/50\n",
            "32/32 [==============================] - 2s 68ms/step - loss: 0.0815 - val_loss: 0.4180\n",
            "Epoch 24/50\n",
            "32/32 [==============================] - 2s 67ms/step - loss: 0.0791 - val_loss: 0.3481\n",
            "Epoch 25/50\n",
            "32/32 [==============================] - 2s 70ms/step - loss: 0.0750 - val_loss: 0.4161\n",
            "Epoch 26/50\n",
            "32/32 [==============================] - 2s 69ms/step - loss: 0.0756 - val_loss: 0.3103\n",
            "Epoch 27/50\n",
            "32/32 [==============================] - 2s 69ms/step - loss: 0.0746 - val_loss: 0.4181\n",
            "Epoch 28/50\n",
            "32/32 [==============================] - 2s 69ms/step - loss: 0.0761 - val_loss: 0.4465\n",
            "Epoch 29/50\n",
            "32/32 [==============================] - 2s 67ms/step - loss: 0.0726 - val_loss: 0.4720\n",
            "Epoch 30/50\n",
            "32/32 [==============================] - 2s 66ms/step - loss: 0.0759 - val_loss: 0.4464\n",
            "Epoch 31/50\n",
            "32/32 [==============================] - 2s 68ms/step - loss: 0.0709 - val_loss: 0.2772\n",
            "Epoch 32/50\n",
            "32/32 [==============================] - 2s 69ms/step - loss: 0.0717 - val_loss: 0.4892\n",
            "Epoch 33/50\n",
            "32/32 [==============================] - 2s 68ms/step - loss: 0.0728 - val_loss: 0.3098\n",
            "Epoch 34/50\n",
            "32/32 [==============================] - 2s 69ms/step - loss: 0.0704 - val_loss: 0.3750\n",
            "Epoch 35/50\n",
            "32/32 [==============================] - 2s 66ms/step - loss: 0.0721 - val_loss: 0.5160\n",
            "Epoch 36/50\n",
            "32/32 [==============================] - 2s 70ms/step - loss: 0.0706 - val_loss: 0.2421\n",
            "Epoch 37/50\n",
            "32/32 [==============================] - 2s 66ms/step - loss: 0.0712 - val_loss: 0.3914\n",
            "Epoch 38/50\n",
            "32/32 [==============================] - 2s 68ms/step - loss: 0.0698 - val_loss: 0.2281\n",
            "Epoch 39/50\n",
            "32/32 [==============================] - 2s 68ms/step - loss: 0.0698 - val_loss: 0.2391\n",
            "Epoch 40/50\n",
            "32/32 [==============================] - 2s 70ms/step - loss: 0.0703 - val_loss: 0.2880\n",
            "Epoch 41/50\n",
            "32/32 [==============================] - 2s 71ms/step - loss: 0.0703 - val_loss: 0.3305\n",
            "Epoch 42/50\n",
            "32/32 [==============================] - 2s 69ms/step - loss: 0.0688 - val_loss: 0.4575\n",
            "Epoch 43/50\n",
            "32/32 [==============================] - 2s 70ms/step - loss: 0.0671 - val_loss: 0.2339\n",
            "Epoch 44/50\n",
            "32/32 [==============================] - 2s 69ms/step - loss: 0.0692 - val_loss: 0.3825\n",
            "Epoch 45/50\n",
            "32/32 [==============================] - 2s 70ms/step - loss: 0.0664 - val_loss: 0.3461\n",
            "Epoch 46/50\n",
            "32/32 [==============================] - 2s 71ms/step - loss: 0.0696 - val_loss: 0.2068\n",
            "Epoch 47/50\n",
            "32/32 [==============================] - 2s 67ms/step - loss: 0.0718 - val_loss: 0.2346\n",
            "Epoch 48/50\n",
            "32/32 [==============================] - 2s 71ms/step - loss: 0.0685 - val_loss: 0.2412\n",
            "Epoch 49/50\n",
            "32/32 [==============================] - 2s 68ms/step - loss: 0.0659 - val_loss: 0.3058\n",
            "Epoch 50/50\n",
            "32/32 [==============================] - 2s 69ms/step - loss: 0.0670 - val_loss: 0.2006\n"
          ]
        }
      ]
    },
    {
      "cell_type": "code",
      "source": [
        "model = Sequential()\n",
        "model.add(layers.LSTM(128,\n",
        "                    #  dropout=0.1,\n",
        "                    #  recurrent_dropout=0.1,\n",
        "                     return_sequences=True,\n",
        "                     input_shape=(None, float_data.shape[-1])))\n",
        "model.add(layers.LSTM(64, activation='relu',\n",
        "                     dropout=0.1, \n",
        "                     recurrent_dropout=0.1))\n",
        "model.add(layers.Dense(1))\n",
        "model.summary()"
      ],
      "metadata": {
        "colab": {
          "base_uri": "https://localhost:8080/"
        },
        "id": "uGYNZQe_GpG9",
        "outputId": "4106f7f3-16ff-4004-aa6a-ff788041b322"
      },
      "execution_count": 25,
      "outputs": [
        {
          "output_type": "stream",
          "name": "stdout",
          "text": [
            "WARNING:tensorflow:Layer lstm_6 will not use cuDNN kernels since it doesn't meet the criteria. It will use a generic GPU kernel as fallback when running on GPU.\n",
            "Model: \"sequential_6\"\n",
            "_________________________________________________________________\n",
            " Layer (type)                Output Shape              Param #   \n",
            "=================================================================\n",
            " lstm_5 (LSTM)               (None, None, 128)         66560     \n",
            "                                                                 \n",
            " lstm_6 (LSTM)               (None, 64)                49408     \n",
            "                                                                 \n",
            " dense_8 (Dense)             (None, 1)                 65        \n",
            "                                                                 \n",
            "=================================================================\n",
            "Total params: 116,033\n",
            "Trainable params: 116,033\n",
            "Non-trainable params: 0\n",
            "_________________________________________________________________\n"
          ]
        }
      ]
    },
    {
      "cell_type": "code",
      "source": [
        "loss = history.history['loss']\n",
        "val_loss = history.history['val_loss']\n",
        "\n",
        "epochs = range(len(loss))\n",
        "\n",
        "plt.figure()\n",
        "\n",
        "plt.plot(epochs, loss, 'r', label='Training loss')\n",
        "plt.plot(epochs, val_loss, 'b', label='Validation loss')\n",
        "plt.title('Training and validation loss')\n",
        "plt.legend()\n",
        "\n",
        "plt.show()"
      ],
      "metadata": {
        "colab": {
          "base_uri": "https://localhost:8080/",
          "height": 281
        },
        "id": "Pw5RN7dAPKOY",
        "outputId": "b4025ef4-8fc6-4839-ae27-3b832e5d41d1"
      },
      "execution_count": 26,
      "outputs": [
        {
          "output_type": "display_data",
          "data": {
            "text/plain": [
              "<Figure size 432x288 with 1 Axes>"
            ],
            "image/png": "[encoded data removed]"
          },
          "metadata": {
            "needs_background": "light"
          }
        }
      ]
    },
    {
      "cell_type": "markdown",
      "metadata": {
        "id": "Aq_JLeRJHrrE"
      },
      "source": [
        "## Model 3: bidirectional RNNs\n",
        "\n",
        "A bidirectional RNN is common RNN variant which can offer higher performance than a regular RNN on certain tasks.\n",
        "\n",
        "RNNs are notably order-dependent, or time-dependent: they process the timesteps of their input sequences in order, and shuffling or \n",
        "reversing the timesteps can completely change the representations that the RNN will extract from the sequence. This is precisely the reason \n",
        "why they perform well on problems where order is meaningful, such as our stock price forecasting problem. A bidirectional RNN exploits \n",
        "the order-sensitivity of RNNs: it simply consists of two regular RNNs, such as the GRU or LSTM layers that you are already familiar with, \n",
        "each processing input sequence in one direction (chronologically and antichronologically), then merging their representations. By \n",
        "processing a sequence both way, a bidirectional RNN is able to catch patterns that may have been overlooked by a one-direction RNN.\n",
        "\n",
        "Remarkably, the fact that the RNN layers in this section have so far processed sequences in chronological order (older timesteps first) may \n",
        "have been an arbitrary decision. At least, it's a decision we made no attempt at questioning so far. Could it be that our RNNs could have \n",
        "performed well enough if it were processing input sequences in antichronological order, for instance (newer timesteps first)? Let's try \n",
        "this in practice and see what we get. All we need to do is write a variant of our data generator, where the input sequences get reverted \n",
        "along the time dimension (replace the last line with `yield samples[:, ::-1, :], targets`). Training the same one-GRU-layer network as we \n",
        "used in the first experiment in this section, we get the following results:"
      ]
    },
    {
      "cell_type": "code",
      "execution_count": 39,
      "metadata": {
        "id": "dAsR1RKJHrrE"
      },
      "outputs": [],
      "source": [
        "def reverse_order_generator(data, lookback, delay, min_index, max_index,\n",
        "                            shuffle=False, batch_size=128, step=6):\n",
        "    if max_index is None:\n",
        "        max_index = len(data) - delay - 1\n",
        "    i = min_index + lookback\n",
        "    while 1:\n",
        "        if shuffle:\n",
        "            rows = np.random.randint(\n",
        "                min_index + lookback, max_index, size=batch_size)\n",
        "        else:\n",
        "            if i + batch_size >= max_index:\n",
        "                i = min_index + lookback\n",
        "            rows = np.arange(i, min(i + batch_size, max_index))\n",
        "            i += len(rows)\n",
        "\n",
        "        samples = np.zeros((len(rows),\n",
        "                           lookback // step,\n",
        "                           data.shape[-1]))\n",
        "        targets = np.zeros((len(rows),))\n",
        "        for j, row in enumerate(rows):\n",
        "            indices = range(rows[j] - lookback, rows[j], step)\n",
        "            samples[j] = data[indices]\n",
        "            targets[j] = data[rows[j] + delay][0] # Hard-coded in the original code, change to 0 instead of 1\n",
        "        yield samples[:, ::-1, :], targets\n",
        "        \n",
        "train_gen_reverse = reverse_order_generator(\n",
        "    float_data,\n",
        "    lookback=lookback,\n",
        "    delay=delay,\n",
        "    min_index=0,\n",
        "    max_index=1400,#\n",
        "    shuffle=True,\n",
        "    step=step, \n",
        "    batch_size=batch_size)\n",
        "val_gen_reverse = reverse_order_generator(\n",
        "    float_data,\n",
        "    lookback=lookback,\n",
        "    delay=delay,\n",
        "    min_index=1401,#\n",
        "    max_index=2100,#\n",
        "    step=step,\n",
        "    batch_size=batch_size)"
      ]
    },
    {
      "cell_type": "code",
      "execution_count": 48,
      "metadata": {
        "id": "e3UBD7kNS3n6",
        "colab": {
          "base_uri": "https://localhost:8080/"
        },
        "outputId": "c5955414-2b37-4ba3-cb5e-a838789dd8e9"
      },
      "outputs": [
        {
          "output_type": "stream",
          "name": "stdout",
          "text": [
            "Epoch 1/40\n"
          ]
        },
        {
          "output_type": "stream",
          "name": "stderr",
          "text": [
            "/usr/local/lib/python3.7/dist-packages/ipykernel_launcher.py:15: UserWarning: `Model.fit_generator` is deprecated and will be removed in a future version. Please use `Model.fit`, which supports generators.\n",
            "  from ipykernel import kernelapp as app\n"
          ]
        },
        {
          "output_type": "stream",
          "name": "stdout",
          "text": [
            "32/32 [==============================] - 5s 30ms/step - loss: 0.1864 - val_loss: 1.3825\n",
            "Epoch 2/40\n",
            "32/32 [==============================] - 0s 9ms/step - loss: 0.1232 - val_loss: 1.2394\n",
            "Epoch 3/40\n",
            "32/32 [==============================] - 0s 9ms/step - loss: 0.1165 - val_loss: 1.1177\n",
            "Epoch 4/40\n",
            "32/32 [==============================] - 0s 8ms/step - loss: 0.1053 - val_loss: 0.8439\n",
            "Epoch 5/40\n",
            "32/32 [==============================] - 0s 9ms/step - loss: 0.1004 - val_loss: 0.8251\n",
            "Epoch 6/40\n",
            "32/32 [==============================] - 0s 9ms/step - loss: 0.0945 - val_loss: 0.6361\n",
            "Epoch 7/40\n",
            "32/32 [==============================] - 0s 9ms/step - loss: 0.0890 - val_loss: 0.6406\n",
            "Epoch 8/40\n",
            "32/32 [==============================] - 0s 9ms/step - loss: 0.0876 - val_loss: 0.6567\n",
            "Epoch 9/40\n",
            "32/32 [==============================] - 0s 9ms/step - loss: 0.0805 - val_loss: 0.6139\n",
            "Epoch 10/40\n",
            "32/32 [==============================] - 0s 8ms/step - loss: 0.0801 - val_loss: 0.6169\n",
            "Epoch 11/40\n",
            "32/32 [==============================] - 0s 10ms/step - loss: 0.0786 - val_loss: 0.5114\n",
            "Epoch 12/40\n",
            "32/32 [==============================] - 0s 9ms/step - loss: 0.0776 - val_loss: 0.6134\n",
            "Epoch 13/40\n",
            "32/32 [==============================] - 0s 9ms/step - loss: 0.0755 - val_loss: 0.4620\n",
            "Epoch 14/40\n",
            "32/32 [==============================] - 0s 10ms/step - loss: 0.0749 - val_loss: 0.4830\n",
            "Epoch 15/40\n",
            "32/32 [==============================] - 0s 9ms/step - loss: 0.0737 - val_loss: 0.4915\n",
            "Epoch 16/40\n",
            "32/32 [==============================] - 0s 9ms/step - loss: 0.0733 - val_loss: 0.5021\n",
            "Epoch 17/40\n",
            "32/32 [==============================] - 0s 9ms/step - loss: 0.0716 - val_loss: 0.5357\n",
            "Epoch 18/40\n",
            "32/32 [==============================] - 0s 9ms/step - loss: 0.0711 - val_loss: 0.5119\n",
            "Epoch 19/40\n",
            "32/32 [==============================] - 0s 10ms/step - loss: 0.0708 - val_loss: 0.5427\n",
            "Epoch 20/40\n",
            "32/32 [==============================] - 0s 10ms/step - loss: 0.0690 - val_loss: 0.4688\n",
            "Epoch 21/40\n",
            "32/32 [==============================] - 0s 10ms/step - loss: 0.0702 - val_loss: 0.4585\n",
            "Epoch 22/40\n",
            "32/32 [==============================] - 0s 10ms/step - loss: 0.0661 - val_loss: 0.4272\n",
            "Epoch 23/40\n",
            "32/32 [==============================] - 0s 10ms/step - loss: 0.0686 - val_loss: 0.4765\n",
            "Epoch 24/40\n",
            "32/32 [==============================] - 0s 8ms/step - loss: 0.0669 - val_loss: 0.3226\n",
            "Epoch 25/40\n",
            "32/32 [==============================] - 0s 9ms/step - loss: 0.0677 - val_loss: 0.4558\n",
            "Epoch 26/40\n",
            "32/32 [==============================] - 0s 9ms/step - loss: 0.0683 - val_loss: 0.3868\n",
            "Epoch 27/40\n",
            "32/32 [==============================] - 0s 9ms/step - loss: 0.0691 - val_loss: 0.3632\n",
            "Epoch 28/40\n",
            "32/32 [==============================] - 0s 9ms/step - loss: 0.0690 - val_loss: 0.3825\n",
            "Epoch 29/40\n",
            "32/32 [==============================] - 0s 9ms/step - loss: 0.0652 - val_loss: 0.3785\n",
            "Epoch 30/40\n",
            "32/32 [==============================] - 0s 10ms/step - loss: 0.0656 - val_loss: 0.4206\n",
            "Epoch 31/40\n",
            "32/32 [==============================] - 0s 10ms/step - loss: 0.0645 - val_loss: 0.3402\n",
            "Epoch 32/40\n",
            "32/32 [==============================] - 0s 9ms/step - loss: 0.0630 - val_loss: 0.2933\n",
            "Epoch 33/40\n",
            "32/32 [==============================] - 0s 9ms/step - loss: 0.0608 - val_loss: 0.3318\n",
            "Epoch 34/40\n",
            "32/32 [==============================] - 0s 9ms/step - loss: 0.0623 - val_loss: 0.3346\n",
            "Epoch 35/40\n",
            "32/32 [==============================] - 0s 10ms/step - loss: 0.0598 - val_loss: 0.3932\n",
            "Epoch 36/40\n",
            "32/32 [==============================] - 0s 9ms/step - loss: 0.0604 - val_loss: 0.3711\n",
            "Epoch 37/40\n",
            "32/32 [==============================] - 0s 9ms/step - loss: 0.0626 - val_loss: 0.2630\n",
            "Epoch 38/40\n",
            "32/32 [==============================] - 0s 9ms/step - loss: 0.0618 - val_loss: 0.3447\n",
            "Epoch 39/40\n",
            "32/32 [==============================] - 0s 9ms/step - loss: 0.0600 - val_loss: 0.2752\n",
            "Epoch 40/40\n",
            "32/32 [==============================] - 0s 10ms/step - loss: 0.0631 - val_loss: 0.3456\n"
          ]
        }
      ],
      "source": [
        "from keras.models import Sequential\n",
        "from keras import layers\n",
        "from tensorflow.keras.optimizers import RMSprop\n",
        "\n",
        "model = Sequential()\n",
        "model.add(layers.Bidirectional(\n",
        "    layers.LSTM(128), input_shape=(None, float_data.shape[-1])))\n",
        "model.add(layers.Dense(1))\n",
        "\n",
        "model.compile(optimizer=RMSprop(), loss='mae')\n",
        "history = model.fit_generator(train_gen,\n",
        "                              steps_per_epoch=32,\n",
        "                              epochs=40,\n",
        "                              validation_data=val_gen,\n",
        "                              validation_steps=val_steps)\n",
        "#loss: 0.0631 - val_loss: 0.3456"
      ]
    },
    {
      "cell_type": "code",
      "source": [
        "model = Sequential()\n",
        "model.add(layers.Bidirectional(\n",
        "    layers.LSTM(128), input_shape=(None, float_data.shape[-1])))\n",
        "model.add(layers.Dense(1))\n",
        "model.summary()"
      ],
      "metadata": {
        "colab": {
          "base_uri": "https://localhost:8080/"
        },
        "id": "TO8PFLq3YY2l",
        "outputId": "b10f916c-264c-4807-e8ff-57794dcd7587"
      },
      "execution_count": 50,
      "outputs": [
        {
          "output_type": "stream",
          "name": "stdout",
          "text": [
            "Model: \"sequential_22\"\n",
            "_________________________________________________________________\n",
            " Layer (type)                Output Shape              Param #   \n",
            "=================================================================\n",
            " bidirectional_16 (Bidirecti  (None, 256)              133120    \n",
            " onal)                                                           \n",
            "                                                                 \n",
            " dense_20 (Dense)            (None, 1)                 257       \n",
            "                                                                 \n",
            "=================================================================\n",
            "Total params: 133,377\n",
            "Trainable params: 133,377\n",
            "Non-trainable params: 0\n",
            "_________________________________________________________________\n"
          ]
        }
      ]
    },
    {
      "cell_type": "code",
      "execution_count": 49,
      "metadata": {
        "colab": {
          "base_uri": "https://localhost:8080/",
          "height": 281
        },
        "id": "FdQmIEt7Xbbs",
        "outputId": "e72b7c33-14b5-4ea3-a78f-7e30bed2f4dc"
      },
      "outputs": [
        {
          "output_type": "display_data",
          "data": {
            "text/plain": [
              "<Figure size 432x288 with 1 Axes>"
            ],
            "image/png": "[encoded data removed]"
          },
          "metadata": {
            "needs_background": "light"
          }
        }
      ],
      "source": [
        "loss = history.history['loss']\n",
        "val_loss = history.history['val_loss']\n",
        "\n",
        "epochs = range(len(loss))\n",
        "\n",
        "plt.figure()\n",
        "\n",
        "plt.plot(epochs, loss, 'r', label='Training loss')\n",
        "plt.plot(epochs, val_loss, 'b', label='Validation loss')\n",
        "plt.title('Training and validation loss')\n",
        "plt.legend()\n",
        "\n",
        "plt.show()"
      ]
    },
    {
      "cell_type": "markdown",
      "metadata": {
        "id": "7SRcnI9UHrrb"
      },
      "source": [
        "\n",
        "## Further Adjustment\n",
        "* Adjust the number of units in each recurrent layer in the stacked setup. Our current choices are largely arbitrary and thus likely suboptimal.\n",
        "* Use a bigger densely-connected regressor on top of the recurrent layers, i.e. a bigger Dense layer or even a stack of Dense layers.\n"
      ]
    },
    {
      "cell_type": "markdown",
      "source": [
        "# Utilize the best model (lowest validation MAE) to compare the predicted stock price and actual stock price on the test dataset"
      ],
      "metadata": {
        "id": "1kBwpo2F6Guy"
      }
    },
    {
      "cell_type": "code",
      "source": [
        "#our chosen best model\n",
        "model = Sequential()\n",
        "model.add(layers.LSTM(128,\n",
        "                    #  dropout=0.1,\n",
        "                    #  recurrent_dropout=0.1,\n",
        "                     return_sequences=True,\n",
        "                     input_shape=(None, float_data.shape[-1])))\n",
        "model.add(layers.LSTM(64, activation='relu',\n",
        "                     dropout=0.1, \n",
        "                     recurrent_dropout=0.1))\n",
        "model.add(layers.Dense(1))\n",
        "model.summary()"
      ],
      "metadata": {
        "id": "RSLzkveyMl91"
      },
      "execution_count": null,
      "outputs": []
    },
    {
      "cell_type": "code",
      "source": [
        "train_predict = model.predict(train_gen)\n",
        "test_predict = model.predict(test_gen)\n",
        "\n",
        "# Transform back to original form\n",
        "train_predict = scaler.inverse_transform(train_predict)\n",
        "test_predict = scaler.inverse_transform(test_predict)"
      ],
      "metadata": {
        "id": "_Wos5yWrWLFh"
      },
      "execution_count": null,
      "outputs": []
    },
    {
      "cell_type": "code",
      "source": [
        "plt.plot(test_predict, color = 'black', label = 'AAPL Stock Price')\n",
        "plt.plot(train_predict, color = 'green', label = 'Predicted AAPL Stock Price')\n",
        "plt.title('AAPL Stock Price Prediction')\n",
        "plt.xlabel('Time')\n",
        "plt.ylabel('AAPL Stock Price')\n",
        "plt.legend()\n",
        "plt.show()"
      ],
      "metadata": {
        "id": "bvh1iC_1ePOV"
      },
      "execution_count": 1,
      "outputs": []
    }
  ],
  "metadata": {
    "colab": {
      "collapsed_sections": [
        "c2zx7ODLHrqJ",
        "jM5f8SRIHrqX",
        "YmS3fOlXHrqh",
        "w6rv1GHqHrqq",
        "cWLRtgMlLxGd",
        "Aq_JLeRJHrrE",
        "1kBwpo2F6Guy"
      ],
      "name": "Stock Price Forecasting with historical stock price dataset.ipynb",
      "provenance": []
    },
    "kernelspec": {
      "display_name": "Python 3",
      "language": "python",
      "name": "python3"
    },
    "language_info": {
      "codemirror_mode": {
        "name": "ipython",
        "version": 3
      },
      "file_extension": ".py",
      "mimetype": "text/x-python",
      "name": "python",
      "nbconvert_exporter": "python",
      "pygments_lexer": "ipython3",
      "version": "3.8.8"
    },
    "accelerator": "GPU"
  },
  "nbformat": 4,
  "nbformat_minor": 0
}